{
 "cells": [
  {
   "cell_type": "code",
   "execution_count": 18,
   "metadata": {},
   "outputs": [],
   "source": [
    "import serial\n",
    "import time\n",
    "\n",
    "port = serial.Serial(\"COM5\", 9600)"
   ]
  },
  {
   "cell_type": "code",
   "execution_count": 19,
   "metadata": {},
   "outputs": [],
   "source": [
    "t = time.time()\n",
    "elapsed_time = 0\n",
    "\n",
    "while elapsed_time < 3:\n",
    "    port.readline()\n",
    "    elapsed_time = time.time() - t"
   ]
  },
  {
   "cell_type": "code",
   "execution_count": 20,
   "metadata": {},
   "outputs": [],
   "source": [
    "import pandas as pd"
   ]
  },
  {
   "cell_type": "code",
   "execution_count": 21,
   "metadata": {},
   "outputs": [],
   "source": [
    "import time\n",
    "while(time.sleep(3)):\n",
    "    print('True')"
   ]
  },
  {
   "cell_type": "code",
   "execution_count": 22,
   "metadata": {},
   "outputs": [
    {
     "name": "stdout",
     "output_type": "stream",
     "text": [
      "rest\n",
      "right\n",
      "rest\n",
      "right\n",
      "rest\n",
      "right\n",
      "rest\n",
      "right\n",
      "rest\n",
      "right\n",
      "rest\n",
      "right\n",
      "rest\n",
      "right\n",
      "rest\n",
      "right\n",
      "rest\n",
      "right\n",
      "rest\n",
      "right\n",
      "rest\n",
      "right\n",
      "rest\n",
      "right\n",
      "rest\n",
      "right\n",
      "rest\n",
      "right\n",
      "rest\n",
      "right\n",
      "rest\n",
      "right\n",
      "rest\n",
      "right\n",
      "rest\n",
      "right\n",
      "rest\n",
      "right\n",
      "rest\n",
      "right\n",
      "rest\n",
      "right\n",
      "rest\n",
      "right\n",
      "rest\n",
      "right\n",
      "rest\n",
      "right\n",
      "rest\n",
      "right\n",
      "rest\n",
      "right\n",
      "rest\n",
      "right\n",
      "rest\n",
      "right\n",
      "rest\n",
      "right\n",
      "rest\n",
      "right\n",
      "rest\n",
      "right\n",
      "rest\n",
      "right\n",
      "rest\n",
      "right\n",
      "rest\n",
      "right\n",
      "rest\n",
      "right\n",
      "rest\n",
      "right\n",
      "rest\n",
      "right\n",
      "rest\n",
      "right\n",
      "rest\n",
      "right\n",
      "rest\n",
      "right\n",
      "rest\n",
      "right\n",
      "rest\n",
      "right\n",
      "rest\n",
      "right\n",
      "rest\n",
      "right\n",
      "rest\n",
      "right\n",
      "rest\n",
      "right\n",
      "rest\n",
      "right\n",
      "rest\n",
      "right\n",
      "rest\n",
      "right\n",
      "rest\n",
      "right\n"
     ]
    }
   ],
   "source": [
    "data = {'label': [], 'input': []}\n",
    "t = time.time()\n",
    "elapsed_time = 0\n",
    "\n",
    "for i in range(50):\n",
    "    t = time.time()\n",
    "    elapsed_time = 0\n",
    "    first = True\n",
    "    data[\"label\"].append(\"rest\")\n",
    "    rest_gesture = []\n",
    "    while elapsed_time < 3:\n",
    "        if first:\n",
    "            print(\"rest\")\n",
    "            first = False\n",
    "        rest_gesture.append(int(port.readline().decode()))\n",
    "        elapsed_time = time.time() - t\n",
    "    data[\"input\"].append(rest_gesture)\n",
    "\n",
    "    t = time.time()\n",
    "    elapsed_time = 0\n",
    "    first = True\n",
    "    data[\"label\"].append(\"right\")\n",
    "    other_gesture = []\n",
    "    while elapsed_time < 3:\n",
    "        if first:\n",
    "            print(\"right\")\n",
    "            first = False\n",
    "        other_gesture.append(int(port.readline().decode()))\n",
    "        elapsed_time = time.time() - t\n",
    "        \n",
    "    data[\"input\"].append(other_gesture)"
   ]
  },
  {
   "cell_type": "code",
   "execution_count": 28,
   "metadata": {},
   "outputs": [
    {
     "data": {
      "text/html": [
       "<div>\n",
       "<style scoped>\n",
       "    .dataframe tbody tr th:only-of-type {\n",
       "        vertical-align: middle;\n",
       "    }\n",
       "\n",
       "    .dataframe tbody tr th {\n",
       "        vertical-align: top;\n",
       "    }\n",
       "\n",
       "    .dataframe thead th {\n",
       "        text-align: right;\n",
       "    }\n",
       "</style>\n",
       "<table border=\"1\" class=\"dataframe\">\n",
       "  <thead>\n",
       "    <tr style=\"text-align: right;\">\n",
       "      <th></th>\n",
       "      <th>label</th>\n",
       "      <th>input</th>\n",
       "    </tr>\n",
       "  </thead>\n",
       "  <tbody>\n",
       "    <tr>\n",
       "      <th>0</th>\n",
       "      <td>rest</td>\n",
       "      <td>[495, 495, 495, 495, 495, 495, 495, 494, 495, ...</td>\n",
       "    </tr>\n",
       "    <tr>\n",
       "      <th>1</th>\n",
       "      <td>right</td>\n",
       "      <td>[494, 494, 494, 494, 494, 494, 494, 494, 494, ...</td>\n",
       "    </tr>\n",
       "    <tr>\n",
       "      <th>2</th>\n",
       "      <td>rest</td>\n",
       "      <td>[500, 490, 491, 491, 498, 495, 497, 501, 498, ...</td>\n",
       "    </tr>\n",
       "    <tr>\n",
       "      <th>3</th>\n",
       "      <td>right</td>\n",
       "      <td>[495, 495, 494, 495, 495, 495, 495, 495, 495, ...</td>\n",
       "    </tr>\n",
       "    <tr>\n",
       "      <th>4</th>\n",
       "      <td>rest</td>\n",
       "      <td>[494, 496, 494, 494, 495, 494, 490, 496, 497, ...</td>\n",
       "    </tr>\n",
       "    <tr>\n",
       "      <th>...</th>\n",
       "      <td>...</td>\n",
       "      <td>...</td>\n",
       "    </tr>\n",
       "    <tr>\n",
       "      <th>95</th>\n",
       "      <td>right</td>\n",
       "      <td>[494, 494, 494, 494, 494, 495, 494, 495, 494, ...</td>\n",
       "    </tr>\n",
       "    <tr>\n",
       "      <th>96</th>\n",
       "      <td>rest</td>\n",
       "      <td>[495, 497, 491, 497, 491, 492, 497, 489, 494, ...</td>\n",
       "    </tr>\n",
       "    <tr>\n",
       "      <th>97</th>\n",
       "      <td>right</td>\n",
       "      <td>[494, 494, 494, 494, 495, 494, 494, 494, 494, ...</td>\n",
       "    </tr>\n",
       "    <tr>\n",
       "      <th>98</th>\n",
       "      <td>rest</td>\n",
       "      <td>[494, 495, 495, 495, 489, 495, 496, 494, 501, ...</td>\n",
       "    </tr>\n",
       "    <tr>\n",
       "      <th>99</th>\n",
       "      <td>right</td>\n",
       "      <td>[494, 494, 494, 494, 495, 494, 494, 494, 494, ...</td>\n",
       "    </tr>\n",
       "  </tbody>\n",
       "</table>\n",
       "<p>100 rows × 2 columns</p>\n",
       "</div>"
      ],
      "text/plain": [
       "    label                                              input\n",
       "0    rest  [495, 495, 495, 495, 495, 495, 495, 494, 495, ...\n",
       "1   right  [494, 494, 494, 494, 494, 494, 494, 494, 494, ...\n",
       "2    rest  [500, 490, 491, 491, 498, 495, 497, 501, 498, ...\n",
       "3   right  [495, 495, 494, 495, 495, 495, 495, 495, 495, ...\n",
       "4    rest  [494, 496, 494, 494, 495, 494, 490, 496, 497, ...\n",
       "..    ...                                                ...\n",
       "95  right  [494, 494, 494, 494, 494, 495, 494, 495, 494, ...\n",
       "96   rest  [495, 497, 491, 497, 491, 492, 497, 489, 494, ...\n",
       "97  right  [494, 494, 494, 494, 495, 494, 494, 494, 494, ...\n",
       "98   rest  [494, 495, 495, 495, 489, 495, 496, 494, 501, ...\n",
       "99  right  [494, 494, 494, 494, 495, 494, 494, 494, 494, ...\n",
       "\n",
       "[100 rows x 2 columns]"
      ]
     },
     "execution_count": 28,
     "metadata": {},
     "output_type": "execute_result"
    }
   ],
   "source": [
    "data_df = pd.DataFrame.from_dict(data)\n",
    "data_df"
   ]
  },
  {
   "cell_type": "code",
   "execution_count": 29,
   "metadata": {},
   "outputs": [],
   "source": [
    "import matplotlib.pyplot as plt"
   ]
  },
  {
   "cell_type": "code",
   "execution_count": 32,
   "metadata": {},
   "outputs": [
    {
     "data": {
      "text/plain": [
       "[<matplotlib.lines.Line2D at 0x1ccce686b80>]"
      ]
     },
     "execution_count": 32,
     "metadata": {},
     "output_type": "execute_result"
    },
    {
     "data": {
      "image/png": "[encoded data removed]",
      "text/plain": [
       "<Figure size 432x288 with 1 Axes>"
      ]
     },
     "metadata": {
      "needs_background": "light"
     },
     "output_type": "display_data"
    }
   ],
   "source": [
    "plt.plot(data_df[\"input\"][50])"
   ]
  },
  {
   "cell_type": "code",
   "execution_count": 26,
   "metadata": {},
   "outputs": [
    {
     "data": {
      "text/plain": [
       "[<matplotlib.lines.Line2D at 0x1ccce584190>]"
      ]
     },
     "execution_count": 26,
     "metadata": {},
     "output_type": "execute_result"
    },
    {
     "data": {
      "image/png": "[encoded data removed]",
      "text/plain": [
       "<Figure size 432x288 with 1 Axes>"
      ]
     },
     "metadata": {
      "needs_background": "light"
     },
     "output_type": "display_data"
    }
   ],
   "source": [
    "plt.plot(data_df[\"input\"][3])"
   ]
  },
  {
   "cell_type": "code",
   "execution_count": 33,
   "metadata": {},
   "outputs": [],
   "source": [
    "data_df.to_csv(\"EMG_training_E_Day2.csv\")"
   ]
  }
 ],
 "metadata": {
  "kernelspec": {
   "display_name": "Python 3",
   "language": "python",
   "name": "python3"
  },
  "language_info": {
   "codemirror_mode": {
    "name": "ipython",
    "version": 3
   },
   "file_extension": ".py",
   "mimetype": "text/x-python",
   "name": "python",
   "nbconvert_exporter": "python",
   "pygments_lexer": "ipython3",
   "version": "3.8.5"
  }
 },
 "nbformat": 4,
 "nbformat_minor": 5
}
